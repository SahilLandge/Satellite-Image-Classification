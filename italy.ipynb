{
 "cells": [
  {
   "cell_type": "code",
   "execution_count": null,
   "metadata": {},
   "outputs": [
    {
     "name": "stderr",
     "output_type": "stream",
     "text": [
      "C:\\Anaconda3\\envs\\sumedh\\lib\\site-packages\\PIL\\Image.py:2546: DecompressionBombWarning: Image size (120560400 pixels) exceeds limit of 89478485 pixels, could be decompression bomb DOS attack.\n",
      "  DecompressionBombWarning)\n"
     ]
    }
   ],
   "source": [
    "import matplotlib.pyplot as plt\n",
    "%matplotlib inline\n",
    "from PIL import Image\n",
    "import numpy as np\n",
    "\n",
    "\n",
    "data = np.zeros((10980*10980,8))\n",
    "\n",
    "\n",
    "output = np.asarray(Image.open(r\"C:\\image processing\\italy\\italy bands\\output.tif\")).flatten()\n",
    "ndvi_italy = np.asarray(Image.open(r\"C:\\image processing\\italy\\italy bands\\ndvi_italy.tif\")).flatten()\n",
    "ndbi_italy = np.asarray(Image.open(r\"C:\\image processing\\italy\\italy bands\\ndbi_italy.tif\")).flatten()\n",
    "ndwi_italy = np.asarray(Image.open(r\"C:\\image processing\\italy\\italy bands\\ndwi_italy.tif\")).flatten()\n",
    "ndbsi_italy = np.asarray(Image.open(r\"C:\\image processing\\italy\\italy bands\\ndbsi_italy.tif\")).flatten()\n",
    "\n",
    "for i in range(10980*10980):\n",
    "    for j in range(4):\n",
    "        if j == 0: \n",
    "            data[i][j] = ndvi_italy[i]\n",
    "        elif j == 1: \n",
    "            data[i][j] = ndbi_italy[i]\n",
    "        elif j == 2: \n",
    "            data[i][j] = ndwi_italy[i]\n",
    "        else: \n",
    "            data[i][j] = ndbsi_italy[i]\n",
    "            \n",
    "    if output[i] == 1: \n",
    "        data[i][4] = 1\n",
    "    elif output[i] == 2: \n",
    "        data[i][5] = 1\n",
    "    elif output[i] == 3: \n",
    "        data[i][6] = 1\n",
    "    else: \n",
    "        data[i][7] = 1    \n",
    "        \n",
    "print(data[0])   \n",
    "print(data[-1])\n"
   ]
  },
  {
   "cell_type": "code",
   "execution_count": null,
   "metadata": {
    "collapsed": true
   },
   "outputs": [],
   "source": [
    "np.random.shuffle(data)\n",
    "\n",
    "xtrain = data[:96448320,:4]\n",
    "ytrain = data[:96448320,4:]\n",
    "\n",
    "xtest = data[96448320:,:4]\n",
    "ytest = data[96448320:,4:]"
   ]
  },
  {
   "cell_type": "code",
   "execution_count": null,
   "metadata": {
    "collapsed": true
   },
   "outputs": [],
   "source": [
    "from keras.models import Sequential\n",
    "from keras.layers import Dense\n",
    "#import os\n",
    "#os.environ['KERAS_BACKEND'] = 'tensorflow'\n",
    "import gc\n",
    "\n",
    "\n",
    "model = Sequential()\n",
    "model.add(Dense(4,input_dim=4,activation='tanh'))\n",
    "for i in range(1,1):\n",
    "    model.add(Dense(4,activation='tanh'))\n",
    "\n",
    "model.add(Dense(4,activation='softmax'))\n",
    "model.compile(loss='categorical_crossentropy', optimizer='adam', metrics=['accuracy'])\n",
    "model.fit(xtrain, ytrain, epochs=10, batch_size=100000, verbose=2)\n",
    "scores = model.evaluate(xtest, ytest, verbose=0)\n",
    "print(\"Accuracy : \")\n",
    "print(scores[1]*100)\n",
    "print(\"Garbage collected: \")\n",
    "print(gc.collect())"
   ]
  }
 ],
 "metadata": {
  "kernelspec": {
   "display_name": "Python 3",
   "language": "python",
   "name": "python3"
  },
  "language_info": {
   "codemirror_mode": {
    "name": "ipython",
    "version": 3
   },
   "file_extension": ".py",
   "mimetype": "text/x-python",
   "name": "python",
   "nbconvert_exporter": "python",
   "pygments_lexer": "ipython3",
   "version": "3.6.2"
  }
 },
 "nbformat": 4,
 "nbformat_minor": 2
}
